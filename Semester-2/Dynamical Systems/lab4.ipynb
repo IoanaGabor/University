{
 "cells": [
  {
   "cell_type": "code",
   "execution_count": 2,
   "id": "010dfd1b",
   "metadata": {},
   "outputs": [],
   "source": [
    "A = matrix([[0,-2,0],[1,-2,0],[0,0,-2]])"
   ]
  },
  {
   "cell_type": "code",
   "execution_count": 4,
   "id": "14b4fce9",
   "metadata": {},
   "outputs": [
    {
     "data": {
      "text/plain": [
       "-4"
      ]
     },
     "execution_count": 4,
     "metadata": {},
     "output_type": "execute_result"
    }
   ],
   "source": [
    "A.det()"
   ]
  },
  {
   "cell_type": "code",
   "execution_count": 5,
   "id": "d4e58cb1",
   "metadata": {},
   "outputs": [
    {
     "data": {
      "text/plain": [
       "[  -1    1    0]\n",
       "[-1/2    0    0]\n",
       "[   0    0 -1/2]"
      ]
     },
     "execution_count": 5,
     "metadata": {},
     "output_type": "execute_result"
    }
   ],
   "source": [
    "A.inverse()"
   ]
  },
  {
   "cell_type": "code",
   "execution_count": 8,
   "id": "89eb17b2",
   "metadata": {},
   "outputs": [
    {
     "data": {
      "text/plain": [
       "x^3 + 4*x^2 + 6*x + 4"
      ]
     },
     "execution_count": 8,
     "metadata": {},
     "output_type": "execute_result"
    }
   ],
   "source": [
    "A.charpoly()"
   ]
  },
  {
   "cell_type": "code",
   "execution_count": 10,
   "id": "1ebe591d",
   "metadata": {},
   "outputs": [
    {
     "data": {
      "text/plain": [
       "[-2, -1 - 1*I, -1 + 1*I]"
      ]
     },
     "execution_count": 10,
     "metadata": {},
     "output_type": "execute_result"
    }
   ],
   "source": [
    "A.eigenvalues()"
   ]
  },
  {
   "cell_type": "code",
   "execution_count": 11,
   "id": "baed5f92",
   "metadata": {},
   "outputs": [
    {
     "data": {
      "text/plain": [
       "[(-2,\n",
       "  [\n",
       "  (0, 0, 1)\n",
       "  ],\n",
       "  1),\n",
       " (-1 - 1*I, [(1, 0.50000000000000000? + 0.50000000000000000?*I, 0)], 1),\n",
       " (-1 + 1*I, [(1, 0.50000000000000000? - 0.50000000000000000?*I, 0)], 1)]"
      ]
     },
     "execution_count": 11,
     "metadata": {},
     "output_type": "execute_result"
    }
   ],
   "source": [
    "A.eigenvectors_right()"
   ]
  },
  {
   "cell_type": "code",
   "execution_count": 12,
   "id": "a901c185",
   "metadata": {},
   "outputs": [
    {
     "data": {
      "text/plain": [
       "[(-2,\n",
       "  [\n",
       "  (0, 0, 1)\n",
       "  ],\n",
       "  1),\n",
       " (-1 - 1*I, [(1, -1 - 1*I, 0)], 1),\n",
       " (-1 + 1*I, [(1, -1 + 1*I, 0)], 1)]"
      ]
     },
     "execution_count": 12,
     "metadata": {},
     "output_type": "execute_result"
    }
   ],
   "source": [
    "A.eigenvectors_left()"
   ]
  },
  {
   "cell_type": "code",
   "execution_count": 23,
   "id": "950378a5",
   "metadata": {},
   "outputs": [
    {
     "data": {
      "text/plain": [
       "True"
      ]
     },
     "execution_count": 23,
     "metadata": {},
     "output_type": "execute_result"
    }
   ],
   "source": [
    "u1 = vector([0,0,1])\n",
    "lamb1 = -2\n",
    "A*u1 == lamb1*u1"
   ]
  },
  {
   "cell_type": "code",
   "execution_count": 24,
   "id": "e56f89d7",
   "metadata": {},
   "outputs": [
    {
     "data": {
      "text/plain": [
       "True"
      ]
     },
     "execution_count": 24,
     "metadata": {},
     "output_type": "execute_result"
    }
   ],
   "source": [
    "u2 = vector([1+I,1,0])\n",
    "lamb2 = -1 + I\n",
    "A*u2 == lamb2*u2"
   ]
  },
  {
   "cell_type": "code",
   "execution_count": 25,
   "id": "e5fc6efa",
   "metadata": {},
   "outputs": [
    {
     "data": {
      "text/plain": [
       "True"
      ]
     },
     "execution_count": 25,
     "metadata": {},
     "output_type": "execute_result"
    }
   ],
   "source": [
    "u3 = vector([1-I,1,0])\n",
    "lamb3 = -1 - I\n",
    "A*u3 == lamb3*u3"
   ]
  },
  {
   "cell_type": "code",
   "execution_count": 28,
   "id": "49c261c0",
   "metadata": {},
   "outputs": [
    {
     "data": {
      "text/plain": [
       "[     0  I + 1 -I + 1]\n",
       "[     0      1      1]\n",
       "[     1      0      0]"
      ]
     },
     "execution_count": 28,
     "metadata": {},
     "output_type": "execute_result"
    }
   ],
   "source": [
    "P =matrix([u1,u2,u3]).transpose()\n",
    "P"
   ]
  },
  {
   "cell_type": "code",
   "execution_count": 33,
   "id": "a393d7eb",
   "metadata": {},
   "outputs": [
    {
     "data": {
      "text/plain": [
       "[    -2      0      0]\n",
       "[     0  I - 1      0]\n",
       "[     0      0 -I - 1]"
      ]
     },
     "execution_count": 33,
     "metadata": {},
     "output_type": "execute_result"
    }
   ],
   "source": [
    "D = diagonal_matrix([lamb1,lamb2,lamb3])\n",
    "D"
   ]
  },
  {
   "cell_type": "code",
   "execution_count": 38,
   "id": "461970c3",
   "metadata": {},
   "outputs": [
    {
     "data": {
      "text/plain": [
       "True"
      ]
     },
     "execution_count": 38,
     "metadata": {},
     "output_type": "execute_result"
    }
   ],
   "source": [
    "A == P*D*P.inverse()"
   ]
  },
  {
   "cell_type": "code",
   "execution_count": 42,
   "id": "9f992bc0",
   "metadata": {},
   "outputs": [
    {
     "data": {
      "text/plain": [
       "[      e^(-2*t)              0              0]\n",
       "[             0  e^((I - 1)*t)              0]\n",
       "[             0              0 e^(-(I + 1)*t)]"
      ]
     },
     "execution_count": 42,
     "metadata": {},
     "output_type": "execute_result"
    }
   ],
   "source": [
    "var('t')\n",
    "exp(t*D)"
   ]
  },
  {
   "cell_type": "code",
   "execution_count": 52,
   "id": "229986da",
   "metadata": {},
   "outputs": [
    {
     "data": {
      "text/plain": [
       "[-1/2*((I - 1)*e^(2*I*t) - I - 1)*e^(-(I + 1)*t)                (I*e^(2*I*t) - I)*e^(-(I + 1)*t)                                               0]\n",
       "[          -1/2*(I*e^(2*I*t) - I)*e^(-(I + 1)*t)  1/2*((I + 1)*e^(2*I*t) - I + 1)*e^(-(I + 1)*t)                                               0]\n",
       "[                                              0                                               0                                        e^(-2*t)]"
      ]
     },
     "execution_count": 52,
     "metadata": {},
     "output_type": "execute_result"
    }
   ],
   "source": [
    "exp(t*A)"
   ]
  },
  {
   "cell_type": "code",
   "execution_count": 59,
   "id": "0346524e",
   "metadata": {},
   "outputs": [
    {
     "data": {
      "text/plain": [
       "(e^(2*t + 2) - 1)/(e^(2*t + 2) + 1)"
      ]
     },
     "execution_count": 59,
     "metadata": {},
     "output_type": "execute_result"
    }
   ],
   "source": [
    "var('t')\n",
    "x = function('x')(t)\n",
    "sol = desolve(diff(x,1)==1 - x^2, x, ics=[0,-1])\n",
    "solve((sol*2).log_simplify(),x)[0].rhs()"
   ]
  },
  {
   "cell_type": "code",
   "execution_count": 62,
   "id": "b36e0771",
   "metadata": {},
   "outputs": [
    {
     "data": {
      "text/plain": [
       "(e^(2*t - 2) - 1)/(e^(2*t - 2) + 1)"
      ]
     },
     "execution_count": 62,
     "metadata": {},
     "output_type": "execute_result"
    }
   ],
   "source": [
    "var('t')\n",
    "x = function('x')(t)\n",
    "sol = desolve(diff(x,1)==1 - x^2, x, ics=[0,1])\n",
    "solve((sol*2).log_simplify(),x)[0].rhs()"
   ]
  },
  {
   "cell_type": "code",
   "execution_count": 64,
   "id": "678eb30d",
   "metadata": {},
   "outputs": [
    {
     "data": {
      "text/plain": [
       "(e^(2*t + 4) - 1)/(e^(2*t + 4) + 1)"
      ]
     },
     "execution_count": 64,
     "metadata": {},
     "output_type": "execute_result"
    }
   ],
   "source": [
    "var('t')\n",
    "x = function('x')(t)\n",
    "sol = desolve(diff(x,1)==1 - x^2, x, ics=[0,-2])\n",
    "solve((sol*2).log_simplify(),x)[0].rhs()"
   ]
  },
  {
   "cell_type": "code",
   "execution_count": 82,
   "id": "17fb5ae2",
   "metadata": {},
   "outputs": [
    {
     "data": {
      "text/plain": [
       "Infinity"
      ]
     },
     "execution_count": 82,
     "metadata": {},
     "output_type": "execute_result"
    }
   ],
   "source": [
    "var('t')\n",
    "x = function('x')(t)\n",
    "sol = desolve(diff(x,1)==1 - x^2, x, ics=[0,2])\n",
    "sol = solve((sol*2).log_simplify(),x)[0].rhs()\n",
    "limit(sol, t=-log(sqrt(3)))"
   ]
  },
  {
   "cell_type": "code",
   "execution_count": 68,
   "id": "f7a978d2",
   "metadata": {},
   "outputs": [
    {
     "data": {
      "text/plain": [
       "1"
      ]
     },
     "execution_count": 68,
     "metadata": {},
     "output_type": "execute_result"
    }
   ],
   "source": [
    "var('t')\n",
    "x = function('x')(t)\n",
    "sol = desolve(diff(x,1)==1 - x^2, x, ics=[0,0])\n",
    "sol = solve((sol*2).log_simplify(),x)[0].rhs()\n",
    "lim(sol, t=infinity)"
   ]
  }
 ],
 "metadata": {
  "kernelspec": {
   "display_name": "SageMath 9.5",
   "language": "sage",
   "name": "sagemath"
  },
  "language_info": {
   "codemirror_mode": {
    "name": "ipython",
    "version": 3
   },
   "file_extension": ".py",
   "mimetype": "text/x-python",
   "name": "python",
   "nbconvert_exporter": "python",
   "pygments_lexer": "ipython3",
   "version": "3.10.6"
  }
 },
 "nbformat": 4,
 "nbformat_minor": 5
}
